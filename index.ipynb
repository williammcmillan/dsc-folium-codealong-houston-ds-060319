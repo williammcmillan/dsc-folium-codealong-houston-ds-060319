{
 "cells": [
  {
   "cell_type": "markdown",
   "metadata": {},
   "source": [
    "# Folium - Codealong\n",
    "\n",
    "## Introduction \n",
    "\n",
    "In this codealong, we'll take a look at how to create an interactive map using the Folium package. From there, we'll return to APIs in the final lab for the day where you'll make an interactive map from your requests to the API!\n",
    "\n",
    "## Objectives\n",
    "\n",
    "You will be able to: \n",
    "* Create maps with Folium"
   ]
  },
  {
   "cell_type": "markdown",
   "metadata": {},
   "source": [
    "## Creating a Basemap\n",
    "\n",
    "Here we'll take a look at creating a basemap over the London region!"
   ]
  },
  {
   "cell_type": "code",
   "execution_count": 1,
   "metadata": {
    "scrolled": false
   },
   "outputs": [
    {
     "data": {
      "text/html": [
       "<div style=\"width:100%;\"><div style=\"position:relative;width:100%;height:0;padding-bottom:60%;\"><iframe src=\"data:text/html;charset=utf-8;base64,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\" style=\"position:absolute;width:100%;height:100%;left:0;top:0;border:none !important;\" allowfullscreen webkitallowfullscreen mozallowfullscreen></iframe></div></div>"
      ],
      "text/plain": [
       "<folium.folium.Map at 0x7fee6c592d68>"
      ]
     },
     "execution_count": 1,
     "metadata": {},
     "output_type": "execute_result"
    }
   ],
   "source": [
    "import folium\n",
    "\n",
    "lat = 51.51\n",
    "long = -0.14\n",
    "\n",
    "#Create a map of the area\n",
    "base_map = folium.Map([lat, long], zoom_start=13)\n",
    "base_map"
   ]
  },
  {
   "cell_type": "markdown",
   "metadata": {},
   "source": [
    "## Adding Markers to the Map\n",
    "\n",
    "Great! Now let's take a look at adding little markers to our map!\n",
    "\n",
    "**Note:** you may have to zoom out to see all of the markers!"
   ]
  },
  {
   "cell_type": "code",
   "execution_count": 2,
   "metadata": {},
   "outputs": [
    {
     "data": {
      "text/html": [
       "<div style=\"width:100%;\"><div style=\"position:relative;width:100%;height:0;padding-bottom:60%;\"><iframe src=\"data:text/html;charset=utf-8;base64,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\" style=\"position:absolute;width:100%;height:100%;left:0;top:0;border:none !important;\" allowfullscreen webkitallowfullscreen mozallowfullscreen></iframe></div></div>"
      ],
      "text/plain": [
       "<folium.folium.Map at 0x7fee6c592d68>"
      ]
     },
     "execution_count": 2,
     "metadata": {},
     "output_type": "execute_result"
    }
   ],
   "source": [
    "import numpy as np\n",
    "\n",
    "#Generate some random locations to add to our map\n",
    "x = [lat + np.random.uniform(-.1,.1) for i in range(20)]\n",
    "y = [long + np.random.uniform(-.1,.1) for i in range(20)]\n",
    "points = list(zip(x, y))\n",
    "for p in points:\n",
    "    lat = p[0]\n",
    "    long = p[1]\n",
    "    marker = folium.Marker(location=[lat, long])\n",
    "    marker.add_to(base_map)\n",
    "base_map"
   ]
  },
  {
   "cell_type": "markdown",
   "metadata": {},
   "source": [
    "## Adding Pop-up Boxes to Our Markers\n",
    "\n",
    "Often we may wish to not only place markers on the map, but to create interactive pop-ups which display information to that location. To do this, we can add a popup to our markers when adding them to the map! "
   ]
  },
  {
   "cell_type": "code",
   "execution_count": null,
   "metadata": {},
   "outputs": [],
   "source": [
    "for p in points:\n",
    "    lat = p[0]\n",
    "    long = p[1]\n",
    "    popup_text = \"Latitude: {}, Longitude: {}\".format(lat,long)\n",
    "    popup = folium.Popup(popup_text, parse_html=True)\n",
    "    marker = folium.Marker(location=[lat, long], popup=popup)\n",
    "    marker.add_to(base_map)\n",
    "base_map"
   ]
  },
  {
   "cell_type": "markdown",
   "metadata": {},
   "source": [
    "Now, if you click on the map markers, you should see a little information box pop up!\n",
    "\n",
    "## Summary \n",
    "\n",
    "In this codealong, we learned how to use Folium to create some cool interactive maps with only a few lines of python code! In the next lab, you'll synthesize your skills for the day together and create an interactive visualization map for data you retrieve from the Yelp API!"
   ]
  }
 ],
 "metadata": {
  "kernelspec": {
   "display_name": "Python 3",
   "language": "python",
   "name": "python3"
  },
  "language_info": {
   "codemirror_mode": {
    "name": "ipython",
    "version": 3
   },
   "file_extension": ".py",
   "mimetype": "text/x-python",
   "name": "python",
   "nbconvert_exporter": "python",
   "pygments_lexer": "ipython3",
   "version": "3.6.6"
  }
 },
 "nbformat": 4,
 "nbformat_minor": 2
}
